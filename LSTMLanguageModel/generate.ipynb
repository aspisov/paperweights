{
 "cells": [
  {
   "cell_type": "code",
   "execution_count": 13,
   "metadata": {},
   "outputs": [],
   "source": [
    "import os\n",
    "import json\n",
    "import torch\n",
    "import torch.nn as nn\n",
    "import torch.nn.functional as F\n",
    "import torch.optim as optim\n",
    "from nltk.tokenize import word_tokenize\n",
    "import numpy as np"
   ]
  },
  {
   "cell_type": "code",
   "execution_count": 14,
   "metadata": {},
   "outputs": [],
   "source": [
    "BATCH_SIZE = 64\n",
    "MAX_SEQ_LENGTH = 128\n",
    "\n",
    "EMBED_DIM = 256\n",
    "HIDDEN_SIZE = 256\n",
    "NUM_LAYERS = 3\n",
    "DROPOUT = 0.3\n",
    "LEARNING_RATE = 1e-3\n",
    "\n",
    "device = torch.device(\"cuda\" if torch.cuda.is_available() else \"cpu\")"
   ]
  },
  {
   "cell_type": "code",
   "execution_count": 15,
   "metadata": {},
   "outputs": [],
   "source": [
    "class LSTMLanguageModel(nn.Module):\n",
    "    def __init__(self, vocab_size, embed_dim, hidden_size, num_layers, dropout):\n",
    "        super().__init__()\n",
    "        self.embedding = nn.Embedding(vocab_size, embed_dim)\n",
    "        self.lstm = nn.LSTM(\n",
    "            embed_dim,\n",
    "            hidden_size,\n",
    "            num_layers,\n",
    "            dropout=dropout,\n",
    "            batch_first=True,\n",
    "        )\n",
    "        self.dropout = nn.Dropout(dropout)\n",
    "        self.fc = nn.Linear(hidden_size, vocab_size)\n",
    "        self.layer_norm = nn.LayerNorm(hidden_size)\n",
    "        print(f\"{self._count_parameters() / 1e6:.2f}M parameters\")\n",
    "\n",
    "    def forward(self, x):\n",
    "        emb = self.dropout(self.embedding(x))\n",
    "        output, hidden = self.lstm(emb)\n",
    "        output = self.layer_norm(output)\n",
    "        logits = self.fc(output)\n",
    "        return logits\n",
    "\n",
    "    def _count_parameters(self):\n",
    "        return sum(p.numel() for p in self.parameters() if p.requires_grad)\n"
   ]
  },
  {
   "cell_type": "code",
   "execution_count": 16,
   "metadata": {},
   "outputs": [],
   "source": [
    "def preprocess(text):\n",
    "    return word_tokenize(text.lower())\n",
    "\n",
    "def load_vocabulary(load_dir):\n",
    "    vocab_path = os.path.join(load_dir, 'vocabulary.json')\n",
    "    with open(vocab_path, 'r') as f:\n",
    "        vocab_data = json.load(f)\n",
    "    return vocab_data['vocab'], vocab_data['word_to_idx']\n",
    "\n",
    "def load_model(model, optimizer, load_dir, device):\n",
    "    model_path = os.path.join(load_dir, 'best_model.pth')\n",
    "    \n",
    "    # load model to current device\n",
    "    checkpoint = torch.load(model_path, map_location=device)\n",
    "    model.load_state_dict(checkpoint['model_state_dict'])\n",
    "    model = model.to(device)\n",
    "    \n",
    "    optimizer.load_state_dict(checkpoint['optimizer_state_dict'])\n",
    "    \n",
    "    if device != 'cpu':\n",
    "        for state in optimizer.state.values():\n",
    "            for k, v in state.items():\n",
    "                if isinstance(v, torch.Tensor):\n",
    "                    state[k] = v.to(device)\n",
    "    \n",
    "    epoch = checkpoint['epoch']\n",
    "    loss = checkpoint['loss']\n",
    "    \n",
    "    print(f\"Model loaded from epoch {epoch} with loss: {loss:.4f}\")\n",
    "    return model, optimizer, epoch, loss"
   ]
  },
  {
   "cell_type": "code",
   "execution_count": 17,
   "metadata": {},
   "outputs": [
    {
     "name": "stdout",
     "output_type": "stream",
     "text": [
      "6.81M parameters\n",
      "Model loaded from epoch 2 with loss: 2.1472\n"
     ]
    }
   ],
   "source": [
    "load_dir = \"model_checkpoints\"\n",
    "load_dir = \"model_checkpoints\"\n",
    "vocab, word_to_idx = load_vocabulary(load_dir)\n",
    "UNK_idx = word_to_idx[\"<UNK>\"]\n",
    "\n",
    "model = LSTMLanguageModel(\n",
    "    len(vocab), EMBED_DIM, HIDDEN_SIZE, NUM_LAYERS, DROPOUT\n",
    ").to(device)\n",
    "optimizer = optim.AdamW(model.parameters(), lr=LEARNING_RATE)\n",
    "model, optimizer, epoch, loss = load_model(\n",
    "    model, optimizer, load_dir, device\n",
    ")"
   ]
  },
  {
   "cell_type": "code",
   "execution_count": 23,
   "metadata": {},
   "outputs": [
    {
     "name": "stdout",
     "output_type": "stream",
     "text": [
      "once upon a time , a butterfly flew higher than any other child . they were sad to hear the problem . it was broken than yours . he wanted to make this own\n",
      "once upon a time , there was a big cat . the cat said goodbye to the other side of the garden . the sun was shining and bright , it made everything wet\n",
      "once upon a time , a fancy blanket with flowers . they were very happy . then , he had a big smile and a lot of friends . everyone started to complain that\n",
      "once upon a time , there were big , hairy and black bear was not shaking . but then , something terrible happened . it was a soft , warm blanket . suddenly ,\n",
      "once upon a time , a sandbox was very strong . the sun shone in the sky in the air sky . it was so scary with the loud bark . each day ,\n"
     ]
    }
   ],
   "source": [
    "def generate_text(model, start_sequence, max_length=100, temperature=1):\n",
    "    model.eval()\n",
    "    current_sequence = start_sequence\n",
    "    generated_sequence = start_sequence.copy()\n",
    "\n",
    "    with torch.inference_mode():\n",
    "        for _ in range(max_length):\n",
    "            input_seq = torch.tensor(\n",
    "                [word_to_idx.get(word, UNK_idx) for word in current_sequence]\n",
    "            ).unsqueeze(0).to(device)\n",
    "\n",
    "            output = model(input_seq)\n",
    "            last_word_logits = output[0, -1, :]\n",
    "\n",
    "            scaled_logits = last_word_logits / temperature\n",
    "\n",
    "            probs = F.softmax(scaled_logits, dim=0).cpu().numpy()\n",
    "\n",
    "            # sample next word\n",
    "            next_word_idx = np.random.choice(len(probs), p=probs)\n",
    "            next_word = vocab[next_word_idx]\n",
    "            generated_sequence.append(next_word)\n",
    "\n",
    "            # stop if we generate an <EOS> token\n",
    "            if next_word == '<EOS>':\n",
    "                break\n",
    "\n",
    "            # update current sequence\n",
    "            current_sequence = current_sequence[1:] + [next_word]\n",
    "\n",
    "    if generated_sequence[-1] == '<EOS>':\n",
    "        generated_sequence = generated_sequence[:-1]\n",
    "\n",
    "    return ' '.join(generated_sequence)\n",
    "\n",
    "prompt = preprocess(\"Once upon a time\")\n",
    "for i in range(5):\n",
    "    output = generate_text(model, prompt, max_length=30)\n",
    "    print(output)"
   ]
  },
  {
   "cell_type": "code",
   "execution_count": null,
   "metadata": {},
   "outputs": [],
   "source": []
  }
 ],
 "metadata": {
  "kernelspec": {
   "display_name": "base",
   "language": "python",
   "name": "python3"
  },
  "language_info": {
   "codemirror_mode": {
    "name": "ipython",
    "version": 3
   },
   "file_extension": ".py",
   "mimetype": "text/x-python",
   "name": "python",
   "nbconvert_exporter": "python",
   "pygments_lexer": "ipython3",
   "version": "3.12.4"
  }
 },
 "nbformat": 4,
 "nbformat_minor": 2
}
