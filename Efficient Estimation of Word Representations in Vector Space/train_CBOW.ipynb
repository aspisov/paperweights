{
 "cells": [
  {
   "cell_type": "code",
   "execution_count": 1,
   "metadata": {},
   "outputs": [],
   "source": [
    "# !pip install datasets\n",
    "import torch    \n",
    "import torch.nn as nn\n",
    "import torch.nn.functional as F\n",
    "from tqdm.auto import tqdm\n",
    "from word2vec.data_setup import load_cbow_data, create_data_loaders\n",
    "from word2vec.model import CBOW\n",
    "from word2vec.utils import save_model"
   ]
  },
  {
   "cell_type": "code",
   "execution_count": 2,
   "metadata": {},
   "outputs": [
    {
     "data": {
      "text/plain": [
       "device(type='cpu')"
      ]
     },
     "execution_count": 2,
     "metadata": {},
     "output_type": "execute_result"
    }
   ],
   "source": [
    "# hyperparameters \n",
    "vocab_size = 1000\n",
    "embedding_dim = 100\n",
    "context_size = 5\n",
    "\n",
    "epochs = 5\n",
    "batch_size = 32\n",
    "\n",
    "# device agnostic code\n",
    "device = torch.device(\"cuda\" if torch.cuda.is_available() else \"cpu\")\n",
    "device"
   ]
  },
  {
   "cell_type": "code",
   "execution_count": 3,
   "metadata": {},
   "outputs": [
    {
     "name": "stderr",
     "output_type": "stream",
     "text": [
      "[nltk_data] Downloading package punkt to /Users/aspisov/nltk_data...\n",
      "[nltk_data]   Package punkt is already up-to-date!\n",
      "Found cached dataset wikipedia (/Users/aspisov/.cache/huggingface/datasets/wikipedia/20220301.simple/2.0.0/d41137e149b2ea90eead07e7e3f805119a8c22dd1d5b61651af8e3e3ee736001)\n"
     ]
    },
    {
     "data": {
      "application/vnd.jupyter.widget-view+json": {
       "model_id": "f182f572f287417090736c0f275eb247",
       "version_major": 2,
       "version_minor": 0
      },
      "text/plain": [
       "  0%|          | 0/1 [00:00<?, ?it/s]"
      ]
     },
     "metadata": {},
     "output_type": "display_data"
    },
    {
     "data": {
      "text/plain": [
       "146901"
      ]
     },
     "execution_count": 3,
     "metadata": {},
     "output_type": "execute_result"
    }
   ],
   "source": [
    "dataset = load_cbow_data(vocab_size, context_size, amount_of_articles=200)\n",
    "vocab = dataset.vocab\n",
    "train_dataloader = create_data_loaders(dataset, batch_size=batch_size)\n",
    "len(dataset)"
   ]
  },
  {
   "cell_type": "code",
   "execution_count": 4,
   "metadata": {},
   "outputs": [
    {
     "name": "stdout",
     "output_type": "stream",
     "text": [
      "number of parameters: 0.20M\n"
     ]
    }
   ],
   "source": [
    "# # Huffman tree for hierarchical softmax\n",
    "# root = build_tree(vocab)\n",
    "\n",
    "model = CBOW(vocab_size=len(vocab), embedding_dim=embedding_dim).to(device)\n",
    "optimizer = torch.optim.Adam(model.parameters(), lr=0.001)\n",
    "criterion = nn.CrossEntropyLoss()"
   ]
  },
  {
   "cell_type": "code",
   "execution_count": 5,
   "metadata": {},
   "outputs": [
    {
     "data": {
      "application/vnd.jupyter.widget-view+json": {
       "model_id": "a832f0fe1f72466589446aedbd3739a2",
       "version_major": 2,
       "version_minor": 0
      },
      "text/plain": [
       "  0%|          | 0/5 [00:00<?, ?it/s]"
      ]
     },
     "metadata": {},
     "output_type": "display_data"
    },
    {
     "name": "stdout",
     "output_type": "stream",
     "text": [
      "epoch 1 loss: 4.53\n",
      "epoch 2 loss: 4.14\n",
      "epoch 3 loss: 3.97\n",
      "epoch 4 loss: 3.85\n",
      "epoch 5 loss: 3.76\n"
     ]
    }
   ],
   "source": [
    "# training\n",
    "for epoch in tqdm(range(epochs)):\n",
    "    model.train()\n",
    "    train_loss = 0\n",
    "    for X, y in train_dataloader:\n",
    "        X, y = X.to(device), y.to(device)\n",
    "        \n",
    "        optimizer.zero_grad()\n",
    "\n",
    "        logits = model(X)\n",
    "        loss = criterion(logits, y)\n",
    "        \n",
    "        loss.backward()\n",
    "        optimizer.step()\n",
    "        \n",
    "        train_loss += loss\n",
    "        \n",
    "    train_loss = train_loss / len(train_dataloader)    \n",
    "        \n",
    "    print(f\"epoch {epoch+1} loss: {train_loss:.2f}\")"
   ]
  },
  {
   "cell_type": "code",
   "execution_count": 6,
   "metadata": {},
   "outputs": [
    {
     "name": "stdout",
     "output_type": "stream",
     "text": [
      "[INFO] Saving model to: Efficient Estimation of Word Representations in Vector Space/models/cbow100.pth\n"
     ]
    }
   ],
   "source": [
    "save_model(model, f\"cbow{embedding_dim}.pth\")"
   ]
  },
  {
   "cell_type": "code",
   "execution_count": 7,
   "metadata": {},
   "outputs": [
    {
     "data": {
      "text/plain": [
       "(563, 446, 220, 545)"
      ]
     },
     "execution_count": 7,
     "metadata": {},
     "output_type": "execute_result"
    }
   ],
   "source": [
    "def get_embedding(word, model, vocab):\n",
    "    word_idx = vocab[word]\n",
    "    word_tensor = torch.tensor([word_idx], device=model.embeddings.weight.device)\n",
    "    embedding = model.embeddings(word_tensor)\n",
    "    return embedding\n",
    "\n",
    "vocab['men'], vocab['women'], vocab['king'], vocab['queen']"
   ]
  },
  {
   "cell_type": "code",
   "execution_count": 8,
   "metadata": {},
   "outputs": [],
   "source": [
    "king_emb = get_embedding(\"king\", model, vocab)\n",
    "men_emb = get_embedding(\"men\", model, vocab)\n",
    "women_emb = get_embedding(\"women\", model, vocab)\n",
    "queen_emb = get_embedding(\"queen\", model, vocab)"
   ]
  },
  {
   "cell_type": "code",
   "execution_count": 9,
   "metadata": {},
   "outputs": [
    {
     "data": {
      "text/plain": [
       "0.006044892594218254"
      ]
     },
     "execution_count": 9,
     "metadata": {},
     "output_type": "execute_result"
    }
   ],
   "source": [
    "result_emb = king_emb - men_emb + women_emb\n",
    "F.cosine_similarity(result_emb, queen_emb).item()"
   ]
  },
  {
   "cell_type": "code",
   "execution_count": 10,
   "metadata": {},
   "outputs": [
    {
     "name": "stdout",
     "output_type": "stream",
     "text": [
      "Closest word to 'king - men + women' is: pint\n"
     ]
    }
   ],
   "source": [
    "inverse_vocab = {v: k for k, v in vocab.items()}\n",
    "\n",
    "def find_closest_word(embedding, model, vocab, exclude_words):\n",
    "    exclude_indices = [vocab[word] for word in exclude_words]\n",
    "    all_embeddings = model.embeddings.weight\n",
    "\n",
    "    similarities = F.cosine_similarity(embedding, all_embeddings)\n",
    "    \n",
    "    # Set similarities of the excluded words to a very low value\n",
    "    for idx in exclude_indices:\n",
    "        similarities[idx] = -float('inf')\n",
    "    \n",
    "    closest_idx = similarities.argmax().item()\n",
    "    closest_word = inverse_vocab[closest_idx]\n",
    "    return closest_word\n",
    "\n",
    "closest_word = find_closest_word(result_emb, model, vocab, exclude_words=['king', 'men', 'women'])\n",
    "print(\"Closest word to 'king - men + women' is:\", closest_word)"
   ]
  },
  {
   "cell_type": "code",
   "execution_count": null,
   "metadata": {},
   "outputs": [],
   "source": []
  }
 ],
 "metadata": {
  "kernelspec": {
   "display_name": "base",
   "language": "python",
   "name": "python3"
  },
  "language_info": {
   "codemirror_mode": {
    "name": "ipython",
    "version": 3
   },
   "file_extension": ".py",
   "mimetype": "text/x-python",
   "name": "python",
   "nbconvert_exporter": "python",
   "pygments_lexer": "ipython3",
   "version": "3.11.5"
  }
 },
 "nbformat": 4,
 "nbformat_minor": 2
}
