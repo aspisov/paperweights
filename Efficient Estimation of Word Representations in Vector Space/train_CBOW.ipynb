{
 "cells": [
  {
   "cell_type": "code",
   "execution_count": 4,
   "metadata": {},
   "outputs": [],
   "source": [
    "# !pip install datasets\n",
    "import torch    \n",
    "import torch.nn as nn\n",
    "import torch.nn.functional as F\n",
    "from tqdm.auto import tqdm\n",
    "from word2vec.data_setup import load_cbow_data, create_data_loaders\n",
    "from word2vec.model import CBOW\n",
    "from word2vec.utils import save_model"
   ]
  },
  {
   "cell_type": "code",
   "execution_count": 5,
   "metadata": {},
   "outputs": [
    {
     "data": {
      "text/plain": [
       "device(type='cpu')"
      ]
     },
     "execution_count": 5,
     "metadata": {},
     "output_type": "execute_result"
    }
   ],
   "source": [
    "# hyperparameters \n",
    "vocab_size = 1000\n",
    "embedding_dim = 100\n",
    "context_size = 5\n",
    "\n",
    "epochs = 5\n",
    "batch_size = 32\n",
    "\n",
    "# device agnostic code\n",
    "device = torch.device(\"cuda\" if torch.cuda.is_available() else \"cpu\")\n",
    "device"
   ]
  },
  {
   "cell_type": "code",
   "execution_count": 6,
   "metadata": {},
   "outputs": [
    {
     "name": "stderr",
     "output_type": "stream",
     "text": [
      "[nltk_data] Downloading package punkt to /Users/aspisov/nltk_data...\n",
      "[nltk_data]   Package punkt is already up-to-date!\n",
      "Found cached dataset wikipedia (/Users/aspisov/.cache/huggingface/datasets/wikipedia/20220301.simple/2.0.0/d41137e149b2ea90eead07e7e3f805119a8c22dd1d5b61651af8e3e3ee736001)\n"
     ]
    },
    {
     "data": {
      "application/vnd.jupyter.widget-view+json": {
       "model_id": "0b23ad6a632843e49198676bca6d74ae",
       "version_major": 2,
       "version_minor": 0
      },
      "text/plain": [
       "  0%|          | 0/1 [00:00<?, ?it/s]"
      ]
     },
     "metadata": {},
     "output_type": "display_data"
    },
    {
     "data": {
      "text/plain": [
       "146901"
      ]
     },
     "execution_count": 6,
     "metadata": {},
     "output_type": "execute_result"
    }
   ],
   "source": [
    "dataset = load_cbow_data(vocab_size, context_size, amount_of_articles=200)\n",
    "vocab = dataset.vocab\n",
    "train_dataloader = create_data_loaders(dataset, batch_size=batch_size)\n",
    "len(dataset)"
   ]
  },
  {
   "cell_type": "code",
   "execution_count": 7,
   "metadata": {},
   "outputs": [
    {
     "name": "stdout",
     "output_type": "stream",
     "text": [
      "number of parameters: 0.20M\n"
     ]
    }
   ],
   "source": [
    "# # Huffman tree for hierarchical softmax\n",
    "# root = build_tree(vocab)\n",
    "\n",
    "model = CBOW(vocab_size=len(vocab), embedding_dim=embedding_dim).to(device)\n",
    "optimizer = torch.optim.Adam(model.parameters(), lr=0.001)\n",
    "criterion = nn.CrossEntropyLoss()"
   ]
  },
  {
   "cell_type": "code",
   "execution_count": 8,
   "metadata": {},
   "outputs": [
    {
     "data": {
      "application/vnd.jupyter.widget-view+json": {
       "model_id": "e012dc487682477f9f345faf37f0b162",
       "version_major": 2,
       "version_minor": 0
      },
      "text/plain": [
       "  0%|          | 0/5 [00:00<?, ?it/s]"
      ]
     },
     "metadata": {},
     "output_type": "display_data"
    },
    {
     "ename": "",
     "evalue": "",
     "output_type": "error",
     "traceback": [
      "\u001b[1;31mThe Kernel crashed while executing code in the the current cell or a previous cell. Please review the code in the cell(s) to identify a possible cause of the failure. Click <a href='https://aka.ms/vscodeJupyterKernelCrash'>here</a> for more info. View Jupyter <a href='command:jupyter.viewOutput'>log</a> for further details."
     ]
    }
   ],
   "source": [
    "# training\n",
    "for epoch in tqdm(range(epochs)):\n",
    "    model.train()\n",
    "    train_loss = 0\n",
    "    for X, y in train_dataloader:\n",
    "        X, y = X.to(device), y.to(device)\n",
    "        \n",
    "        optimizer.zero_grad()\n",
    "\n",
    "        logits = model(X)\n",
    "        loss = criterion(logits, y)\n",
    "        \n",
    "        loss.backward()\n",
    "        optimizer.step()\n",
    "        \n",
    "        train_loss += loss\n",
    "        \n",
    "    train_loss = train_loss / len(train_dataloader)    \n",
    "        \n",
    "    print(f\"epoch {epoch+1} loss: {train_loss:.2f}\")"
   ]
  },
  {
   "cell_type": "code",
   "execution_count": null,
   "metadata": {},
   "outputs": [
    {
     "name": "stdout",
     "output_type": "stream",
     "text": [
      "[INFO] Saving model to: Efficient Estimation of Word Representations in Vector Space/models/cbow100.pth\n"
     ]
    }
   ],
   "source": [
    "save_model(model, f\"cbow{embedding_dim}.pth\")"
   ]
  },
  {
   "cell_type": "code",
   "execution_count": null,
   "metadata": {},
   "outputs": [
    {
     "data": {
      "text/plain": [
       "(563, 446, 220, 545)"
      ]
     },
     "execution_count": 7,
     "metadata": {},
     "output_type": "execute_result"
    }
   ],
   "source": [
    "def get_embedding(word, model, vocab):\n",
    "    word_idx = vocab[word]\n",
    "    word_tensor = torch.tensor([word_idx], device=model.embeddings.weight.device)\n",
    "    embedding = model.embeddings(word_tensor)\n",
    "    return embedding\n",
    "\n",
    "vocab['men'], vocab['women'], vocab['king'], vocab['queen']"
   ]
  },
  {
   "cell_type": "code",
   "execution_count": null,
   "metadata": {},
   "outputs": [],
   "source": [
    "king_emb = get_embedding(\"king\", model, vocab)\n",
    "men_emb = get_embedding(\"men\", model, vocab)\n",
    "women_emb = get_embedding(\"women\", model, vocab)\n",
    "queen_emb = get_embedding(\"queen\", model, vocab)"
   ]
  },
  {
   "cell_type": "code",
   "execution_count": null,
   "metadata": {},
   "outputs": [
    {
     "data": {
      "text/plain": [
       "0.006044892594218254"
      ]
     },
     "execution_count": 9,
     "metadata": {},
     "output_type": "execute_result"
    }
   ],
   "source": [
    "result_emb = king_emb - men_emb + women_emb\n",
    "F.cosine_similarity(result_emb, queen_emb).item()"
   ]
  },
  {
   "cell_type": "code",
   "execution_count": null,
   "metadata": {},
   "outputs": [
    {
     "name": "stdout",
     "output_type": "stream",
     "text": [
      "Closest word to 'king - men + women' is: pint\n"
     ]
    }
   ],
   "source": [
    "inverse_vocab = {v: k for k, v in vocab.items()}\n",
    "\n",
    "def find_closest_word(embedding, model, vocab, exclude_words):\n",
    "    exclude_indices = [vocab[word] for word in exclude_words]\n",
    "    all_embeddings = model.embeddings.weight\n",
    "\n",
    "    similarities = F.cosine_similarity(embedding, all_embeddings)\n",
    "    \n",
    "    # Set similarities of the excluded words to a very low value\n",
    "    for idx in exclude_indices:\n",
    "        similarities[idx] = -float('inf')\n",
    "    \n",
    "    closest_idx = similarities.argmax().item()\n",
    "    closest_word = inverse_vocab[closest_idx]\n",
    "    return closest_word\n",
    "\n",
    "closest_word = find_closest_word(result_emb, model, vocab, exclude_words=['king', 'men', 'women'])\n",
    "print(\"Closest word to 'king - men + women' is:\", closest_word)"
   ]
  },
  {
   "cell_type": "code",
   "execution_count": null,
   "metadata": {},
   "outputs": [
    {
     "ename": "NameError",
     "evalue": "name 'model' is not defined",
     "output_type": "error",
     "traceback": [
      "\u001b[0;31m---------------------------------------------------------------------------\u001b[0m",
      "\u001b[0;31mNameError\u001b[0m                                 Traceback (most recent call last)",
      "Cell \u001b[0;32mIn[3], line 5\u001b[0m\n\u001b[1;32m      2\u001b[0m \u001b[38;5;28;01mimport\u001b[39;00m \u001b[38;5;21;01mmatplotlib\u001b[39;00m\u001b[38;5;21;01m.\u001b[39;00m\u001b[38;5;21;01mpyplot\u001b[39;00m \u001b[38;5;28;01mas\u001b[39;00m \u001b[38;5;21;01mplt\u001b[39;00m\n\u001b[1;32m      3\u001b[0m \u001b[38;5;28;01mfrom\u001b[39;00m \u001b[38;5;21;01mword2vec\u001b[39;00m\u001b[38;5;21;01m.\u001b[39;00m\u001b[38;5;21;01mdata_setup\u001b[39;00m \u001b[38;5;28;01mimport\u001b[39;00m decode\n\u001b[0;32m----> 5\u001b[0m embeddings \u001b[38;5;241m=\u001b[39m model\u001b[38;5;241m.\u001b[39membedding\u001b[38;5;241m.\u001b[39mweight\u001b[38;5;241m.\u001b[39mto(\u001b[38;5;124m'\u001b[39m\u001b[38;5;124mcpu\u001b[39m\u001b[38;5;124m'\u001b[39m)\u001b[38;5;241m.\u001b[39mdata\u001b[38;5;241m.\u001b[39mnumpy()\n\u001b[1;32m      6\u001b[0m n_viz_words \u001b[38;5;241m=\u001b[39m \u001b[38;5;241m400\u001b[39m  \u001b[38;5;66;03m# plot only first 400 words from vocabulary\u001b[39;00m\n\u001b[1;32m      7\u001b[0m tsne \u001b[38;5;241m=\u001b[39m TSNE()\n",
      "\u001b[0;31mNameError\u001b[0m: name 'model' is not defined"
     ]
    }
   ],
   "source": [
    "from sklearn.manifold import TSNE\n",
    "import matplotlib.pyplot as plt\n",
    "from word2vec.data_setup import decode\n",
    "\n",
    "embeddings = model.embedding.weight.to('cpu').data.numpy()\n",
    "n_viz_words = 400  # plot only first 400 words from vocabulary\n",
    "tsne = TSNE()\n",
    "embeddings_tsne = TSNE.fit_transform(embeddings[:n_viz_words, :])\n",
    "\n",
    "fig, ax = plt.subplots(figsize = (16, 16))\n",
    "for i in range(n_viz_words):\n",
    "    plt.scatter(*embeddings_tsne[i, :], color = 'steelblue')\n",
    "    plt.annotate(decode[i], (embeddings_tsne[i, 0], embeddings_tsne[i, 1]), alpha = 0.7)"
   ]
  },
  {
   "cell_type": "code",
   "execution_count": null,
   "metadata": {},
   "outputs": [],
   "source": []
  }
 ],
 "metadata": {
  "kernelspec": {
   "display_name": "base",
   "language": "python",
   "name": "python3"
  },
  "language_info": {
   "codemirror_mode": {
    "name": "ipython",
    "version": 3
   },
   "file_extension": ".py",
   "mimetype": "text/x-python",
   "name": "python",
   "nbconvert_exporter": "python",
   "pygments_lexer": "ipython3",
   "version": "3.11.5"
  }
 },
 "nbformat": 4,
 "nbformat_minor": 2
}
