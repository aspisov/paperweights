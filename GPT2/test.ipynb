{
 "cells": [
  {
   "cell_type": "code",
   "execution_count": 1,
   "metadata": {},
   "outputs": [],
   "source": [
    "from model import GPT, generate_text"
   ]
  },
  {
   "cell_type": "code",
   "execution_count": 2,
   "metadata": {},
   "outputs": [
    {
     "name": "stdout",
     "output_type": "stream",
     "text": [
      "loading weights from pretrained gpt: gpt2\n",
      "<  Once upon a time, he was simply a man, his own family all of the time in town.\n",
      "\n",
      "Doubtless he enjoyed it.\n",
      "<  Once upon a time, it seems to me that the 'bureaucratic' functioning of state institutions was an extension of that of a political\n",
      "<  Once upon a time, when she wished to see her sister before it was too late, she could only watch as her husband turned back to her,\n",
      "<  Once upon a time, I was doing this all the time, and I did it without ever worrying about whether your body was being manipulated into doing what\n",
      "<  Once upon a time, though, the best way to be the best is to be a good person. If you are a poor person, you have\n"
     ]
    }
   ],
   "source": [
    "model = GPT.from_pretrained(\"gpt2\")\n",
    "\n",
    "prompt = \"Once upon a time,\"\n",
    "generated_texts = generate_text(\n",
    "    model, prompt, num_return_sequences=5, max_length=30\n",
    ")\n",
    "\n",
    "for text in generated_texts:\n",
    "    print(\"< \", text)"
   ]
  },
  {
   "cell_type": "code",
   "execution_count": null,
   "metadata": {},
   "outputs": [],
   "source": []
  }
 ],
 "metadata": {
  "kernelspec": {
   "display_name": "base",
   "language": "python",
   "name": "python3"
  },
  "language_info": {
   "codemirror_mode": {
    "name": "ipython",
    "version": 3
   },
   "file_extension": ".py",
   "mimetype": "text/x-python",
   "name": "python",
   "nbconvert_exporter": "python",
   "pygments_lexer": "ipython3",
   "version": "3.12.4"
  }
 },
 "nbformat": 4,
 "nbformat_minor": 2
}
