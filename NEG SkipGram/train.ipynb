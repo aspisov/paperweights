{
 "cells": [
  {
   "cell_type": "code",
   "execution_count": 25,
   "metadata": {},
   "outputs": [],
   "source": [
    "# !pip install datasets\n",
    "import torch    \n",
    "import torch.nn as nn\n",
    "import torch.nn.functional as F\n",
    "from tqdm.auto import tqdm\n",
    "from word2vec.data_setup import load_skipgram_data, create_data_loaders\n",
    "from word2vec.model import SkipGramNegativeSampling, NegativeSampleLoss\n",
    "from word2vec.utils import save_embeddings, load_embeddings, visualize_embeddings"
   ]
  },
  {
   "cell_type": "code",
   "execution_count": 26,
   "metadata": {},
   "outputs": [
    {
     "data": {
      "text/plain": [
       "device(type='cpu')"
      ]
     },
     "execution_count": 26,
     "metadata": {},
     "output_type": "execute_result"
    }
   ],
   "source": [
    "# hyperparameters \n",
    "vocab_size = 1000\n",
    "embedding_dim = 100\n",
    "context_size = 3\n",
    "\n",
    "epochs = 3\n",
    "batch_size = 32\n",
    "\n",
    "# device agnostic code\n",
    "device = torch.device(\"cuda\" if torch.cuda.is_available() else \"cpu\")\n",
    "device"
   ]
  },
  {
   "cell_type": "code",
   "execution_count": 27,
   "metadata": {},
   "outputs": [
    {
     "name": "stderr",
     "output_type": "stream",
     "text": [
      "[nltk_data] Downloading package punkt to /Users/aspisov/nltk_data...\n",
      "[nltk_data]   Package punkt is already up-to-date!\n",
      "Found cached dataset wikipedia (/Users/aspisov/.cache/huggingface/datasets/wikipedia/20220301.simple/2.0.0/d41137e149b2ea90eead07e7e3f805119a8c22dd1d5b61651af8e3e3ee736001)\n"
     ]
    },
    {
     "data": {
      "application/vnd.jupyter.widget-view+json": {
       "model_id": "d53d15e38f454b00af2180399433d112",
       "version_major": 2,
       "version_minor": 0
      },
      "text/plain": [
       "  0%|          | 0/1 [00:00<?, ?it/s]"
      ]
     },
     "metadata": {},
     "output_type": "display_data"
    },
    {
     "name": "stdout",
     "output_type": "stream",
     "text": [
      "Total tokens: 0.15M\n"
     ]
    }
   ],
   "source": [
    "dataset, noise_dist = load_skipgram_data(vocab_size, context_size, amount_of_articles=200)\n",
    "train_dataloader = create_data_loaders(dataset, batch_size=batch_size)"
   ]
  },
  {
   "cell_type": "code",
   "execution_count": 28,
   "metadata": {},
   "outputs": [
    {
     "name": "stdout",
     "output_type": "stream",
     "text": [
      "number of parameters: 0.20M\n"
     ]
    },
    {
     "data": {
      "text/plain": [
       "SkipGramNegativeSampling(\n",
       "  (input_embeddings): Embedding(1000, 100)\n",
       "  (output_embeddings): Embedding(1000, 100)\n",
       ")"
      ]
     },
     "execution_count": 28,
     "metadata": {},
     "output_type": "execute_result"
    }
   ],
   "source": [
    "model = SkipGramNegativeSampling(vocab_size, embedding_dim).to(device)\n",
    "optimizer = torch.optim.Adam(model.parameters(), lr=0.001)\n",
    "loss_function = NegativeSampleLoss()\n",
    "\n",
    "model"
   ]
  },
  {
   "cell_type": "code",
   "execution_count": 29,
   "metadata": {},
   "outputs": [],
   "source": [
    "\n",
    "def generate_negative_samples(n_samples, noise_dist, batch_size=batch_size):            \n",
    "    noise_words = torch.multinomial(input       = noise_dist,           # input tensor containing probabilities\n",
    "                                        num_samples = batch_size * n_samples, # number of samples to draw\n",
    "                                        replacement = True)\n",
    "    return noise_words.view(batch_size, n_samples)"
   ]
  },
  {
   "cell_type": "code",
   "execution_count": 30,
   "metadata": {},
   "outputs": [
    {
     "data": {
      "application/vnd.jupyter.widget-view+json": {
       "model_id": "307b8ceee34a4fa89f59de53d0e614c9",
       "version_major": 2,
       "version_minor": 0
      },
      "text/plain": [
       "  0%|          | 0/3 [00:00<?, ?it/s]"
      ]
     },
     "metadata": {},
     "output_type": "display_data"
    },
    {
     "name": "stdout",
     "output_type": "stream",
     "text": [
      "\tEpoch 1, batches processed: 20.0%, Loss: 4.47\n",
      "\tEpoch 1, batches processed: 40.0%, Loss: 3.55\n",
      "\tEpoch 1, batches processed: 60.0%, Loss: 3.14\n",
      "\tEpoch 1, batches processed: 80.0%, Loss: 2.92\n",
      "\tEpoch 1, batches processed: 100.0%, Loss: 2.77\n",
      "Epoch 1 Average Loss: 2.77\n",
      "\tEpoch 2, batches processed: 20.0%, Loss: 2.12\n",
      "\tEpoch 2, batches processed: 40.0%, Loss: 2.12\n",
      "\tEpoch 2, batches processed: 60.0%, Loss: 2.12\n",
      "\tEpoch 2, batches processed: 80.0%, Loss: 2.11\n",
      "\tEpoch 2, batches processed: 100.0%, Loss: 2.11\n",
      "Epoch 2 Average Loss: 2.11\n",
      "\tEpoch 3, batches processed: 20.0%, Loss: 2.04\n",
      "\tEpoch 3, batches processed: 40.0%, Loss: 2.05\n",
      "\tEpoch 3, batches processed: 60.0%, Loss: 2.05\n",
      "\tEpoch 3, batches processed: 80.0%, Loss: 2.05\n",
      "\tEpoch 3, batches processed: 100.0%, Loss: 2.05\n",
      "Epoch 3 Average Loss: 2.05\n"
     ]
    }
   ],
   "source": [
    "# Total number of batches\n",
    "total_batches = len(train_dataloader)\n",
    "# Interval for reporting loss\n",
    "report_interval = total_batches // 5\n",
    "\n",
    "for epoch in tqdm(range(epochs)):\n",
    "    model.train()\n",
    "    train_loss = 0\n",
    "    for batch_idx, (target, context) in enumerate(train_dataloader):\n",
    "        negative_samples = generate_negative_samples(n_samples=5, noise_dist=noise_dist, batch_size=target.shape[0])\n",
    "        target, context, negative_samples = target.to(device), context.to(device), negative_samples.to(device)\n",
    "\n",
    "        embedded_center = model.forward_input(target)\n",
    "        embedded_context = model.forward_output(context)\n",
    "        embedded_noise = model.forward_noise(negative_samples)\n",
    "\n",
    "        loss = loss_function(embedded_center, embedded_context, embedded_noise)\n",
    "\n",
    "        optimizer.zero_grad()\n",
    "        loss.backward()\n",
    "        optimizer.step()\n",
    "\n",
    "        train_loss += loss.item()\n",
    "        \n",
    "        # Report loss at regular intervals\n",
    "        if (batch_idx + 1) % report_interval == 0:\n",
    "            avg_loss = train_loss / (batch_idx + 1)\n",
    "            print(f\"\\tEpoch {epoch + 1}, batches processed: {(batch_idx + 1) / total_batches * 100:.1f}%, Loss: {avg_loss:.2f}\")\n",
    "\n",
    "    # Final loss report for the epoch\n",
    "    avg_loss = train_loss / total_batches\n",
    "    print(f\"Epoch {epoch + 1} Average Loss: {avg_loss:.2f}\")\n",
    "\n",
    "    # Save embeddings every epoch\n",
    "    save_embeddings(model, dataset.word_to_idx, 'data/word_embeddings.txt')\n"
   ]
  }
 ],
 "metadata": {
  "kernelspec": {
   "display_name": "base",
   "language": "python",
   "name": "python3"
  },
  "language_info": {
   "codemirror_mode": {
    "name": "ipython",
    "version": 3
   },
   "file_extension": ".py",
   "mimetype": "text/x-python",
   "name": "python",
   "nbconvert_exporter": "python",
   "pygments_lexer": "ipython3",
   "version": "3.11.5"
  }
 },
 "nbformat": 4,
 "nbformat_minor": 2
}
