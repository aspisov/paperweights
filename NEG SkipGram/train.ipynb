{
 "cells": [
  {
   "cell_type": "code",
   "execution_count": null,
   "metadata": {},
   "outputs": [],
   "source": [
    "# !pip install datasets\n",
    "import torch    \n",
    "from tqdm.auto import tqdm\n",
    "from word2vec.data_setup import load_skipgram_data, create_data_loaders, generate_negative_samples\n",
    "from word2vec.model import SkipGramNegativeSampling, NegativeSampleLoss\n",
    "from word2vec.utils import save_embeddings, save_checkpoint"
   ]
  },
  {
   "cell_type": "code",
   "execution_count": null,
   "metadata": {},
   "outputs": [],
   "source": [
    "# hyperparameters \n",
    "vocab_size = 20000\n",
    "embedding_dim = 300\n",
    "context_size = 5\n",
    "\n",
    "epochs = 3\n",
    "batch_size = 128\n",
    "\n",
    "# device agnostic code\n",
    "device = torch.device(\"cuda\" if torch.cuda.is_available() else \"cpu\")\n",
    "device"
   ]
  },
  {
   "cell_type": "code",
   "execution_count": null,
   "metadata": {},
   "outputs": [],
   "source": [
    "dataset, noise_dist = load_skipgram_data(vocab_size, context_size, amount_of_articles=200)\n",
    "train_dataloader = create_data_loaders(dataset, batch_size=batch_size)"
   ]
  },
  {
   "cell_type": "code",
   "execution_count": null,
   "metadata": {},
   "outputs": [],
   "source": [
    "model = SkipGramNegativeSampling(vocab_size, embedding_dim).to(device)\n",
    "optimizer = torch.optim.Adam(model.parameters(), lr=0.001)\n",
    "loss_function = NegativeSampleLoss()\n",
    "model"
   ]
  },
  {
   "cell_type": "code",
   "execution_count": null,
   "metadata": {},
   "outputs": [],
   "source": [
    "# Total number of batches\n",
    "total_batches = len(train_dataloader)\n",
    "# Interval for reporting loss\n",
    "report_interval = total_batches // 5\n",
    "\n",
    "for epoch in tqdm(range(epochs)):\n",
    "    model.train()\n",
    "    train_loss = 0\n",
    "    for batch_idx, (target, context) in enumerate(train_dataloader):\n",
    "        negative_samples = generate_negative_samples(n_samples=5, noise_dist=noise_dist, batch_size=target.shape[0])\n",
    "        target, context, negative_samples = target.to(device), context.to(device), negative_samples.to(device)\n",
    "\n",
    "        embedded_center = model.forward_input(target)\n",
    "        embedded_context = model.forward_output(context)\n",
    "        embedded_noise = model.forward_noise(negative_samples)\n",
    "\n",
    "        loss = loss_function(embedded_center, embedded_context, embedded_noise)\n",
    "\n",
    "        optimizer.zero_grad()\n",
    "        loss.backward()\n",
    "        optimizer.step()\n",
    "\n",
    "        train_loss += loss.item()\n",
    "        \n",
    "        # Report loss at regular intervals\n",
    "        if (batch_idx + 1) % report_interval == 0:\n",
    "            avg_loss = train_loss / (batch_idx + 1)\n",
    "            print(f\"\\tEpoch {epoch + 1}, batches processed: {(batch_idx + 1) / total_batches * 100:.1f}%, Loss: {avg_loss:.2f}\")\n",
    "            \n",
    "            # Save model and embeddings\n",
    "            save_checkpoint(model, 'skipgram.pt')\n",
    "            save_embeddings(model, dataset.word_to_idx, 'word_embeddings.txt')\n",
    "            \n",
    "    # Final loss report for the epoch\n",
    "    avg_loss = train_loss / total_batches\n",
    "    print(f\"Epoch {epoch + 1} Average Loss: {avg_loss:.2f}\")\n"
   ]
  },
  {
   "cell_type": "code",
   "execution_count": null,
   "metadata": {},
   "outputs": [],
   "source": []
  }
 ],
 "metadata": {
  "kernelspec": {
   "display_name": "base",
   "language": "python",
   "name": "python3"
  },
  "language_info": {
   "codemirror_mode": {
    "name": "ipython",
    "version": 3
   },
   "file_extension": ".py",
   "mimetype": "text/x-python",
   "name": "python",
   "nbconvert_exporter": "python",
   "pygments_lexer": "ipython3",
   "version": "3.11.5"
  }
 },
 "nbformat": 4,
 "nbformat_minor": 2
}
